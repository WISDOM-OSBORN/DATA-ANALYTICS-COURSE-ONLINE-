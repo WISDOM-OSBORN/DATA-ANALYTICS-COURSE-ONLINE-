{
  "cells": [
    {
      "cell_type": "markdown",
      "metadata": {
        "id": "2OVIS0NvdDB9"
      },
      "source": [
        "![rmotr](https://user-images.githubusercontent.com/7065401/52071918-bda15380-2562-11e9-828c-7f95297e4a82.png)\n",
        "<hr style=\"margin-bottom: 40px;\">\n",
        "\n",
        "# Exercises\n",
        "\n",
        "This is a quick demonstration of how exercises work on [Notebooks.ai](https://notebooks.ai)."
      ]
    },
    {
      "cell_type": "markdown",
      "metadata": {
        "id": "o2OU146edDCD"
      },
      "source": [
        "![green-divider](https://user-images.githubusercontent.com/7065401/52071924-c003ad80-2562-11e9-8297-1c6595f8a7ff.png)\n",
        "\n",
        "### Example 1: Solve the add function\n",
        "\n",
        "Complete the code of the function `add`, that receives 2 numbers and should return the sum of them:"
      ]
    },
    {
      "cell_type": "code",
      "source": [
        "x =20\n",
        "y= 5"
      ],
      "metadata": {
        "id": "WVCTpk_Mdp4s"
      },
      "execution_count": 3,
      "outputs": []
    },
    {
      "cell_type": "code",
      "execution_count": 8,
      "metadata": {
        "id": "1wwS-4mGdDCF"
      },
      "outputs": [],
      "source": [
        "def add(x, y):\n",
        "    pass\n",
        "add(x,y)"
      ]
    },
    {
      "cell_type": "markdown",
      "metadata": {
        "cell_type": "hint",
        "id": "BqqO8uy8dDCH"
      },
      "source": [
        "You can use the `+` operator to sum numbers."
      ]
    },
    {
      "cell_type": "code",
      "execution_count": 9,
      "metadata": {
        "cell_type": "solution",
        "id": "89ATMlQ3dDCV",
        "outputId": "b9afde70-342c-4247-bcef-97fb0ea87924",
        "colab": {
          "base_uri": "https://localhost:8080/"
        }
      },
      "outputs": [
        {
          "output_type": "execute_result",
          "data": {
            "text/plain": [
              "25"
            ]
          },
          "metadata": {},
          "execution_count": 9
        }
      ],
      "source": [
        "def add(x, y):\n",
        "    return x + y\n",
        "add(x,y)"
      ]
    },
    {
      "cell_type": "code",
      "source": [
        "def multiply(x, y):\n",
        "    return x * y\n",
        "multiply(x,y)"
      ],
      "metadata": {
        "id": "4K_psvnfeAeL",
        "outputId": "70c0edc2-c114-47a8-cbd0-2270b80e1a45",
        "colab": {
          "base_uri": "https://localhost:8080/"
        }
      },
      "execution_count": 10,
      "outputs": [
        {
          "output_type": "execute_result",
          "data": {
            "text/plain": [
              "100"
            ]
          },
          "metadata": {},
          "execution_count": 10
        }
      ]
    },
    {
      "cell_type": "code",
      "source": [],
      "metadata": {
        "id": "pu4ylV0ZeAqA"
      },
      "execution_count": null,
      "outputs": []
    },
    {
      "cell_type": "markdown",
      "metadata": {
        "id": "bd7azbbidDCW"
      },
      "source": [
        "![purple-divider](https://user-images.githubusercontent.com/7065401/52071927-c1cd7100-2562-11e9-908a-dde91ba14e59.png)"
      ]
    }
  ],
  "metadata": {
    "kernelspec": {
      "display_name": "Python 3 (ipykernel)",
      "language": "python",
      "name": "python3"
    },
    "language_info": {
      "codemirror_mode": {
        "name": "ipython",
        "version": 3
      },
      "file_extension": ".py",
      "mimetype": "text/x-python",
      "name": "python",
      "nbconvert_exporter": "python",
      "pygments_lexer": "ipython3",
      "version": "3.11.4"
    },
    "colab": {
      "provenance": []
    }
  },
  "nbformat": 4,
  "nbformat_minor": 0
}